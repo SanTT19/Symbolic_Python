{
 "cells": [
  {
   "cell_type": "markdown",
   "metadata": {},
   "source": [
    "# 1. $\\pi$-Model and $T$-Model equivalent equations\n",
    "\n",
    "- Equivalent capacitive model for 4 plates"
   ]
  },
  {
   "cell_type": "code",
   "execution_count": 1,
   "metadata": {},
   "outputs": [],
   "source": [
    "# Libraries\n",
    "from sympy import*\n",
    "import numpy as np\n",
    "\n",
    "# To define automatic printing mode\n",
    "init_printing()"
   ]
  },
  {
   "cell_type": "markdown",
   "metadata": {},
   "source": [
    "## $\\pi$-Model:"
   ]
  },
  {
   "cell_type": "code",
   "execution_count": 5,
   "metadata": {},
   "outputs": [],
   "source": [
    "# Define the symbolic variables\n",
    "\n",
    "# Capacitance\n",
    "c_1, c_2, c_M = symbols('c_1 c_2 c_M', real = True)\n",
    "\n",
    "# Angular frequency\n",
    "w = symbols('w', real = True)"
   ]
  },
  {
   "cell_type": "code",
   "execution_count": 17,
   "metadata": {},
   "outputs": [],
   "source": [
    "# Common denominator\n",
    "com_D = (1/(w*I))*(1/c_1 + 1/c_2 + 1/c_M)"
   ]
  },
  {
   "cell_type": "code",
   "execution_count": 20,
   "metadata": {},
   "outputs": [
    {
     "data": {
      "image/png": "[encoded data removed]",
      "text/latex": [
       "$\\displaystyle - \\frac{i c_{2}}{w \\left(c_{1} c_{2} + c_{1} c_{M} + c_{2} c_{M}\\right)}$"
      ],
      "text/plain": [
       "           -ⅈ⋅c₂           \n",
       "───────────────────────────\n",
       "w⋅(c₁⋅c₂ + c₁⋅c_M + c₂⋅c_M)"
      ]
     },
     "execution_count": 20,
     "metadata": {},
     "output_type": "execute_result"
    }
   ],
   "source": [
    "# T-model equivalent c'_1\n",
    "Zp_1 = ((1/(w*I))**2)*((1/c_1)*(1/c_M))/com_D\n",
    "simplify(Zp_1)"
   ]
  },
  {
   "cell_type": "code",
   "execution_count": 21,
   "metadata": {},
   "outputs": [
    {
     "data": {
      "image/png": "[encoded data removed]",
      "text/latex": [
       "$\\displaystyle - \\frac{i c_{1}}{w \\left(c_{1} c_{2} + c_{1} c_{M} + c_{2} c_{M}\\right)}$"
      ],
      "text/plain": [
       "           -ⅈ⋅c₁           \n",
       "───────────────────────────\n",
       "w⋅(c₁⋅c₂ + c₁⋅c_M + c₂⋅c_M)"
      ]
     },
     "execution_count": 21,
     "metadata": {},
     "output_type": "execute_result"
    }
   ],
   "source": [
    "# T-model equivalent c'_2\n",
    "Zp_2 = ((1/(w*I))**2)*((1/c_2)*(1/c_M))/com_D\n",
    "simplify(Zp_2)"
   ]
  },
  {
   "cell_type": "code",
   "execution_count": 22,
   "metadata": {},
   "outputs": [
    {
     "data": {
      "image/png": "[encoded data removed]",
      "text/latex": [
       "$\\displaystyle - \\frac{i c_{M}}{w \\left(c_{1} c_{2} + c_{1} c_{M} + c_{2} c_{M}\\right)}$"
      ],
      "text/plain": [
       "          -ⅈ⋅c_M           \n",
       "───────────────────────────\n",
       "w⋅(c₁⋅c₂ + c₁⋅c_M + c₂⋅c_M)"
      ]
     },
     "execution_count": 22,
     "metadata": {},
     "output_type": "execute_result"
    }
   ],
   "source": [
    "# T-model equivalent c'_M\n",
    "Zp_M = ((1/(w*I))**2)*((1/c_1)*(1/c_2))/com_D\n",
    "simplify(Zp_M)"
   ]
  },
  {
   "cell_type": "markdown",
   "metadata": {},
   "source": [
    "## $T$-Model:"
   ]
  },
  {
   "cell_type": "code",
   "execution_count": 23,
   "metadata": {},
   "outputs": [],
   "source": [
    "# Define the symbolic variables\n",
    "\n",
    "# Capacitance\n",
    "cp_1, cp_2, cp_M = symbols('cp_1 cp_2 cp_M', real = True)"
   ]
  },
  {
   "cell_type": "code",
   "execution_count": 24,
   "metadata": {},
   "outputs": [],
   "source": [
    "# Common numerator\n",
    "com_N = ((1/(w*I))**2)*((1/(cp_1*cp_M)) + (1/(cp_1*cp_2)) + (1/(cp_M*cp_2)))"
   ]
  },
  {
   "cell_type": "code",
   "execution_count": 25,
   "metadata": {},
   "outputs": [
    {
     "data": {
      "image/png": "[encoded data removed]",
      "text/latex": [
       "$\\displaystyle - \\frac{i \\left(cp_{1} + cp_{2} + cp_{M}\\right)}{cp_{1} cp_{M} w}$"
      ],
      "text/plain": [
       "-ⅈ⋅(cp₁ + cp₂ + cp_M) \n",
       "──────────────────────\n",
       "      cp₁⋅cp_M⋅w      "
      ]
     },
     "execution_count": 25,
     "metadata": {},
     "output_type": "execute_result"
    }
   ],
   "source": [
    "# Pi-model equivalent c_1\n",
    "Z_1 = (com_N)/(1/(w*cp_2*I))\n",
    "simplify(Z_1)"
   ]
  },
  {
   "cell_type": "code",
   "execution_count": 26,
   "metadata": {},
   "outputs": [
    {
     "data": {
      "image/png": "[encoded data removed]",
      "text/latex": [
       "$\\displaystyle - \\frac{i \\left(cp_{1} + cp_{2} + cp_{M}\\right)}{cp_{2} cp_{M} w}$"
      ],
      "text/plain": [
       "-ⅈ⋅(cp₁ + cp₂ + cp_M) \n",
       "──────────────────────\n",
       "      cp₂⋅cp_M⋅w      "
      ]
     },
     "execution_count": 26,
     "metadata": {},
     "output_type": "execute_result"
    }
   ],
   "source": [
    "# Pi-model equivalent c_2\n",
    "Z_2 = (com_N)/(1/(w*cp_1*I))\n",
    "simplify(Z_2)"
   ]
  },
  {
   "cell_type": "code",
   "execution_count": 27,
   "metadata": {},
   "outputs": [
    {
     "data": {
      "image/png": "[encoded data removed]",
      "text/latex": [
       "$\\displaystyle - \\frac{i \\left(cp_{1} + cp_{2} + cp_{M}\\right)}{cp_{1} cp_{2} w}$"
      ],
      "text/plain": [
       "-ⅈ⋅(cp₁ + cp₂ + cp_M) \n",
       "──────────────────────\n",
       "      cp₁⋅cp₂⋅w       "
      ]
     },
     "execution_count": 27,
     "metadata": {},
     "output_type": "execute_result"
    }
   ],
   "source": [
    "# Pi-model equivalent c_M\n",
    "Z_M = (com_N)/(1/(w*cp_M*I))\n",
    "simplify(Z_M)"
   ]
  }
 ],
 "metadata": {
  "kernelspec": {
   "display_name": "Python 3",
   "language": "python",
   "name": "python3"
  },
  "language_info": {
   "codemirror_mode": {
    "name": "ipython",
    "version": 3
   },
   "file_extension": ".py",
   "mimetype": "text/x-python",
   "name": "python",
   "nbconvert_exporter": "python",
   "pygments_lexer": "ipython3",
   "version": "3.8.5"
  }
 },
 "nbformat": 4,
 "nbformat_minor": 4
}
