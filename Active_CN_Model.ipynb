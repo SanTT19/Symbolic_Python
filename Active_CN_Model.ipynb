{
 "cells": [
  {
   "cell_type": "code",
   "execution_count": 10,
   "metadata": {},
   "outputs": [],
   "source": [
    "# Libraries\n",
    "from sympy import*\n",
    "import numpy as np\n",
    "\n",
    "# To define automatic printing mode\n",
    "init_printing()\n",
    "\n",
    "# For priting with text\n",
    "from IPython.display import display, Latex"
   ]
  },
  {
   "cell_type": "markdown",
   "metadata": {},
   "source": [
    "# 1. IPT System Frequency Splitting Model\n",
    "\n",
    "- Equations Derivation"
   ]
  },
  {
   "cell_type": "code",
   "execution_count": 13,
   "metadata": {},
   "outputs": [],
   "source": [
    "# Definition of the symbolic variables\n",
    "\n",
    "# Resistances --> Coils and Load\n",
    "R_1, R_2, R_L = symbols('R_1, R_2, R_L',\n",
    "                       real = True)\n",
    "\n",
    "# Inductance and Capacitance\n",
    "C_1, C_2, L_1, L_2, M_i = symbols('C_1, C_2, L_1,L_2, M_i', \n",
    "                                 real = True)\n",
    "\n",
    "# Reactance\n",
    "X_1, X_2 = symbols('X_1, X_2',\n",
    "                       real = True)\n",
    "\n",
    "# Angular frequency\n",
    "w_e = symbols('w_e', real = True)\n",
    "\n",
    "# Input Voltage and Current\n",
    "V_1, I_1 = symbols('V_1, I_1', real = True)"
   ]
  },
  {
   "cell_type": "code",
   "execution_count": 30,
   "metadata": {},
   "outputs": [],
   "source": [
    "# Reactance in each mesh\n",
    "#X_1 = (w_e*L_1) - (1/(w_e*C_1))\n",
    "#X_2 = (w_e*L_2) - (1/(w_e*C_2))"
   ]
  },
  {
   "cell_type": "markdown",
   "metadata": {},
   "source": [
    "- Equivalent Circuit's Matrix Representation: $[Z][I] = [V]$"
   ]
  },
  {
   "cell_type": "code",
   "execution_count": 3,
   "metadata": {},
   "outputs": [],
   "source": [
    "# Impedance Matriz [Z]\n",
    "Z_m = Matrix([[R_1 + (I*X_1), I*w_e*M_i],\n",
    "            [I*w_e*M_i, R_2 + R_L + (I*X_2)]])\n",
    "\n",
    "# Voltage Vector\n",
    "V_m = Matrix([[V_1], [0]])"
   ]
  },
  {
   "cell_type": "code",
   "execution_count": 4,
   "metadata": {},
   "outputs": [],
   "source": [
    "# Solve the System of Equations\n",
    "I_m = Z_m.inv()*V_m"
   ]
  },
  {
   "cell_type": "code",
   "execution_count": 21,
   "metadata": {},
   "outputs": [
    {
     "data": {
      "text/latex": [
       "Input Current: \n",
       " $$I_{1} = \\frac{V_{1} \\left(- i R_{2} - i R_{L} + X_{2}\\right)}{- i M_{i}^{2} w_{e}^{2} - i R_{1} R_{2} - i R_{1} R_{L} + R_{1} X_{2} + R_{2} X_{1} + R_{L} X_{1} + i X_{1} X_{2}}$$"
      ],
      "text/plain": [
       "<IPython.core.display.Latex object>"
      ]
     },
     "metadata": {},
     "output_type": "display_data"
    }
   ],
   "source": [
    "# Input Current\n",
    "result_I = \"Input Current: \\n $${} = {}$$\".format(latex(I_1), \n",
    "                                                 latex(I_m[0]))\n",
    "display(Latex(result_I))\n",
    "\n",
    "# Separate Numerator and denominator of I1\n",
    "I_1_n, I_1_d = fraction(I_m[0])"
   ]
  },
  {
   "cell_type": "code",
   "execution_count": 25,
   "metadata": {},
   "outputs": [
    {
     "data": {
      "image/png": "[encoded data removed]",
      "text/latex": [
       "$\\displaystyle - i V_{1} \\left(R_{2} + R_{L} + i X_{2}\\right)$"
      ],
      "text/plain": [
       "-ⅈ⋅V₁⋅(R₂ + R_L + ⅈ⋅X₂)"
      ]
     },
     "metadata": {},
     "output_type": "display_data"
    },
    {
     "data": {
      "image/png": "[encoded data removed]",
      "text/latex": [
       "$\\displaystyle - i \\left(R_{1} + i X_{1}\\right) \\left(R_{2} + R_{L} + i X_{2}\\right)$"
      ],
      "text/plain": [
       "-ⅈ⋅(R₁ + ⅈ⋅X₁)⋅(R₂ + R_L + ⅈ⋅X₂)"
      ]
     },
     "metadata": {},
     "output_type": "display_data"
    }
   ],
   "source": [
    "# Operate separately each polynomial\n",
    "display(factor(I_1_n))\n",
    "display(factor(I_1_d + (I*(M_i**2)*(w_e**2))))"
   ]
  },
  {
   "cell_type": "code",
   "execution_count": 28,
   "metadata": {},
   "outputs": [
    {
     "data": {
      "image/png": "[encoded data removed]",
      "text/latex": [
       "$\\displaystyle \\frac{V_{1} \\left(R_{2} + R_{L} + i X_{2}\\right)}{M_{i}^{2} w_{e}^{2} + \\left(R_{1} + i X_{1}\\right) \\left(R_{2} + R_{L} + i X_{2}\\right)}$"
      ],
      "text/plain": [
       "          V₁⋅(R₂ + R_L + ⅈ⋅X₂)         \n",
       "───────────────────────────────────────\n",
       "  2   2                                \n",
       "Mᵢ ⋅wₑ  + (R₁ + ⅈ⋅X₁)⋅(R₂ + R_L + ⅈ⋅X₂)"
      ]
     },
     "metadata": {},
     "output_type": "display_data"
    }
   ],
   "source": [
    "# Reconstruct the factored result\n",
    "I_1 = (factor(I_1_n))/(factor(I_1_d + (I*(M_i**2)*(w_e**2))) \n",
    "                       - (I*(M_i**2)*(w_e**2)))\n",
    "display(simplify(I_1))"
   ]
  },
  {
   "cell_type": "markdown",
   "metadata": {},
   "source": [
    "- Input Impedance Expression $Z_{in}$:"
   ]
  },
  {
   "cell_type": "code",
   "execution_count": null,
   "metadata": {},
   "outputs": [],
   "source": []
  },
  {
   "cell_type": "markdown",
   "metadata": {},
   "source": [
    "# 2. $\\pi$-Model and $T$-Model equivalent equations\n",
    "\n",
    "- Equivalent capacitive model for 4 plates"
   ]
  },
  {
   "cell_type": "markdown",
   "metadata": {},
   "source": [
    "## $\\pi$-Model:"
   ]
  },
  {
   "cell_type": "code",
   "execution_count": 5,
   "metadata": {},
   "outputs": [],
   "source": [
    "# Define the symbolic variables\n",
    "\n",
    "# Capacitance\n",
    "c_1, c_2, c_M = symbols('c_1 c_2 c_M', real = True)\n",
    "\n",
    "# Angular frequency\n",
    "w = symbols('w', real = True)"
   ]
  },
  {
   "cell_type": "code",
   "execution_count": 17,
   "metadata": {},
   "outputs": [],
   "source": [
    "# Common denominator\n",
    "com_D = (1/(w*I))*(1/c_1 + 1/c_2 + 1/c_M)"
   ]
  },
  {
   "cell_type": "code",
   "execution_count": 20,
   "metadata": {},
   "outputs": [
    {
     "data": {
      "image/png": "[encoded data removed]",
      "text/latex": [
       "$\\displaystyle - \\frac{i c_{2}}{w \\left(c_{1} c_{2} + c_{1} c_{M} + c_{2} c_{M}\\right)}$"
      ],
      "text/plain": [
       "           -ⅈ⋅c₂           \n",
       "───────────────────────────\n",
       "w⋅(c₁⋅c₂ + c₁⋅c_M + c₂⋅c_M)"
      ]
     },
     "execution_count": 20,
     "metadata": {},
     "output_type": "execute_result"
    }
   ],
   "source": [
    "# T-model equivalent c'_1\n",
    "Zp_1 = ((1/(w*I))**2)*((1/c_1)*(1/c_M))/com_D\n",
    "simplify(Zp_1)"
   ]
  },
  {
   "cell_type": "code",
   "execution_count": 21,
   "metadata": {},
   "outputs": [
    {
     "data": {
      "image/png": "[encoded data removed]",
      "text/latex": [
       "$\\displaystyle - \\frac{i c_{1}}{w \\left(c_{1} c_{2} + c_{1} c_{M} + c_{2} c_{M}\\right)}$"
      ],
      "text/plain": [
       "           -ⅈ⋅c₁           \n",
       "───────────────────────────\n",
       "w⋅(c₁⋅c₂ + c₁⋅c_M + c₂⋅c_M)"
      ]
     },
     "execution_count": 21,
     "metadata": {},
     "output_type": "execute_result"
    }
   ],
   "source": [
    "# T-model equivalent c'_2\n",
    "Zp_2 = ((1/(w*I))**2)*((1/c_2)*(1/c_M))/com_D\n",
    "simplify(Zp_2)"
   ]
  },
  {
   "cell_type": "code",
   "execution_count": 22,
   "metadata": {},
   "outputs": [
    {
     "data": {
      "image/png": "[encoded data removed]",
      "text/latex": [
       "$\\displaystyle - \\frac{i c_{M}}{w \\left(c_{1} c_{2} + c_{1} c_{M} + c_{2} c_{M}\\right)}$"
      ],
      "text/plain": [
       "          -ⅈ⋅c_M           \n",
       "───────────────────────────\n",
       "w⋅(c₁⋅c₂ + c₁⋅c_M + c₂⋅c_M)"
      ]
     },
     "execution_count": 22,
     "metadata": {},
     "output_type": "execute_result"
    }
   ],
   "source": [
    "# T-model equivalent c'_M\n",
    "Zp_M = ((1/(w*I))**2)*((1/c_1)*(1/c_2))/com_D\n",
    "simplify(Zp_M)"
   ]
  },
  {
   "cell_type": "markdown",
   "metadata": {},
   "source": [
    "## $T$-Model:"
   ]
  },
  {
   "cell_type": "code",
   "execution_count": 23,
   "metadata": {},
   "outputs": [],
   "source": [
    "# Define the symbolic variables\n",
    "\n",
    "# Capacitance\n",
    "cp_1, cp_2, cp_M = symbols('cp_1 cp_2 cp_M', real = True)"
   ]
  },
  {
   "cell_type": "code",
   "execution_count": 24,
   "metadata": {},
   "outputs": [],
   "source": [
    "# Common numerator\n",
    "com_N = ((1/(w*I))**2)*((1/(cp_1*cp_M)) + (1/(cp_1*cp_2)) + (1/(cp_M*cp_2)))"
   ]
  },
  {
   "cell_type": "code",
   "execution_count": 25,
   "metadata": {},
   "outputs": [
    {
     "data": {
      "image/png": "[encoded data removed]",
      "text/latex": [
       "$\\displaystyle - \\frac{i \\left(cp_{1} + cp_{2} + cp_{M}\\right)}{cp_{1} cp_{M} w}$"
      ],
      "text/plain": [
       "-ⅈ⋅(cp₁ + cp₂ + cp_M) \n",
       "──────────────────────\n",
       "      cp₁⋅cp_M⋅w      "
      ]
     },
     "execution_count": 25,
     "metadata": {},
     "output_type": "execute_result"
    }
   ],
   "source": [
    "# Pi-model equivalent c_1\n",
    "Z_1 = (com_N)/(1/(w*cp_2*I))\n",
    "simplify(Z_1)"
   ]
  },
  {
   "cell_type": "code",
   "execution_count": 26,
   "metadata": {},
   "outputs": [
    {
     "data": {
      "image/png": "[encoded data removed]",
      "text/latex": [
       "$\\displaystyle - \\frac{i \\left(cp_{1} + cp_{2} + cp_{M}\\right)}{cp_{2} cp_{M} w}$"
      ],
      "text/plain": [
       "-ⅈ⋅(cp₁ + cp₂ + cp_M) \n",
       "──────────────────────\n",
       "      cp₂⋅cp_M⋅w      "
      ]
     },
     "execution_count": 26,
     "metadata": {},
     "output_type": "execute_result"
    }
   ],
   "source": [
    "# Pi-model equivalent c_2\n",
    "Z_2 = (com_N)/(1/(w*cp_1*I))\n",
    "simplify(Z_2)"
   ]
  },
  {
   "cell_type": "code",
   "execution_count": 27,
   "metadata": {},
   "outputs": [
    {
     "data": {
      "image/png": "[encoded data removed]",
      "text/latex": [
       "$\\displaystyle - \\frac{i \\left(cp_{1} + cp_{2} + cp_{M}\\right)}{cp_{1} cp_{2} w}$"
      ],
      "text/plain": [
       "-ⅈ⋅(cp₁ + cp₂ + cp_M) \n",
       "──────────────────────\n",
       "      cp₁⋅cp₂⋅w       "
      ]
     },
     "execution_count": 27,
     "metadata": {},
     "output_type": "execute_result"
    }
   ],
   "source": [
    "# Pi-model equivalent c_M\n",
    "Z_M = (com_N)/(1/(w*cp_M*I))\n",
    "simplify(Z_M)"
   ]
  }
 ],
 "metadata": {
  "kernelspec": {
   "display_name": "Python 3",
   "language": "python",
   "name": "python3"
  },
  "language_info": {
   "codemirror_mode": {
    "name": "ipython",
    "version": 3
   },
   "file_extension": ".py",
   "mimetype": "text/x-python",
   "name": "python",
   "nbconvert_exporter": "python",
   "pygments_lexer": "ipython3",
   "version": "3.8.5"
  }
 },
 "nbformat": 4,
 "nbformat_minor": 4
}
