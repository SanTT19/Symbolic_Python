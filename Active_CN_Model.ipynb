{
 "cells": [
  {
   "cell_type": "code",
   "execution_count": 1,
   "metadata": {},
   "outputs": [],
   "source": [
    "# Libraries Sympy and Numpy\n",
    "from sympy import*\n",
    "import numpy as np\n",
    "\n",
    "# To define automatic printing mode (Not needed anymore)\n",
    "# init_printing()\n",
    "\n",
    "# For priting with text\n",
    "from IPython.display import display, Latex\n",
    "\n",
    "# Plotting Libraries\n",
    "from mpl_toolkits import mplot3d\n",
    "\n",
    "import matplotlib.pyplot as plt\n",
    "from matplotlib import cm\n",
    "from matplotlib.ticker import LinearLocator, FormatStrFormatter\n",
    "\n",
    "#interactive plotting in separate window\n",
    "#%matplotlib qt \n",
    "\n",
    "#normal charts inside notebooks\n",
    "#%matplotlib inline \n",
    "\n",
    "# Use Latex in plots\n",
    "plt.rcParams['text.usetex'] = False"
   ]
  },
  {
   "cell_type": "markdown",
   "metadata": {},
   "source": [
    "# 1. IPT System Frequency Splitting Model\n",
    "\n",
    "- Equations Derivation"
   ]
  },
  {
   "cell_type": "code",
   "execution_count": 30,
   "metadata": {},
   "outputs": [],
   "source": [
    "# Definition of the symbolic variables\n",
    "\n",
    "# Resistances --> Coils and Load\n",
    "R_1, R_2, R_L = symbols('R_1, R_2, R_L',\n",
    "                       real = True)\n",
    "\n",
    "# Inductance and Capacitance\n",
    "C_1, C_2, L_1, L_2, M_i = symbols('C_1, C_2, L_1,L_2, M_i', \n",
    "                                 real = True)\n",
    "\n",
    "# Reactance\n",
    "X_1, X_2 = symbols('X_1, X_2',\n",
    "                       real = True)\n",
    "\n",
    "# Angular frequency\n",
    "w_e = symbols('w_e', real = True)\n",
    "\n",
    "# Input Voltage and Current\n",
    "V_1, I_1 = symbols('V_1, I_1', real = True)"
   ]
  },
  {
   "cell_type": "code",
   "execution_count": 30,
   "metadata": {},
   "outputs": [],
   "source": [
    "# Reactance in each mesh\n",
    "#X_1 = (w_e*L_1) - (1/(w_e*C_1))\n",
    "#X_2 = (w_e*L_2) - (1/(w_e*C_2))"
   ]
  },
  {
   "cell_type": "markdown",
   "metadata": {},
   "source": [
    "- Equivalent Circuit's Matrix Representation: $[Z][I] = [V]$"
   ]
  },
  {
   "cell_type": "code",
   "execution_count": 31,
   "metadata": {},
   "outputs": [],
   "source": [
    "# Impedance Matriz [Z]\n",
    "Z_m = Matrix([[R_1 + (I*X_1), I*w_e*M_i],\n",
    "            [I*w_e*M_i, R_2 + R_L + (I*X_2)]])\n",
    "\n",
    "# Voltage Vector\n",
    "V_m = Matrix([[V_1], [0]])"
   ]
  },
  {
   "cell_type": "code",
   "execution_count": 32,
   "metadata": {},
   "outputs": [],
   "source": [
    "# Solve the System of Equations\n",
    "I_m = Z_m.inv()*V_m"
   ]
  },
  {
   "cell_type": "code",
   "execution_count": 33,
   "metadata": {},
   "outputs": [
    {
     "data": {
      "text/latex": [
       "Input Current: \n",
       " $$I_{1} = \\frac{V_{1} \\left(- i R_{2} - i R_{L} + X_{2}\\right)}{- i M_{i}^{2} w_{e}^{2} - i R_{1} R_{2} - i R_{1} R_{L} + R_{1} X_{2} + R_{2} X_{1} + R_{L} X_{1} + i X_{1} X_{2}}$$"
      ],
      "text/plain": [
       "<IPython.core.display.Latex object>"
      ]
     },
     "metadata": {},
     "output_type": "display_data"
    }
   ],
   "source": [
    "# Input Current\n",
    "result_I = \"Input Current: \\n $${} = {}$$\".format(latex(I_1), \n",
    "                                                 latex(I_m[0]))\n",
    "display(Latex(result_I))\n",
    "\n",
    "# Separate Numerator and denominator of I1\n",
    "I_1_n, I_1_d = fraction(I_m[0])"
   ]
  },
  {
   "cell_type": "code",
   "execution_count": 34,
   "metadata": {},
   "outputs": [
    {
     "data": {
      "image/png": "[encoded data removed]",
      "text/latex": [
       "$\\displaystyle - i V_{1} \\left(R_{2} + R_{L} + i X_{2}\\right)$"
      ],
      "text/plain": [
       "-ⅈ⋅V₁⋅(R₂ + R_L + ⅈ⋅X₂)"
      ]
     },
     "metadata": {},
     "output_type": "display_data"
    },
    {
     "data": {
      "image/png": "[encoded data removed]",
      "text/latex": [
       "$\\displaystyle - i \\left(R_{1} + i X_{1}\\right) \\left(R_{2} + R_{L} + i X_{2}\\right)$"
      ],
      "text/plain": [
       "-ⅈ⋅(R₁ + ⅈ⋅X₁)⋅(R₂ + R_L + ⅈ⋅X₂)"
      ]
     },
     "metadata": {},
     "output_type": "display_data"
    }
   ],
   "source": [
    "# Operate separately each polynomial\n",
    "display(factor(I_1_n))\n",
    "display(factor(I_1_d + (I*(M_i**2)*(w_e**2))))"
   ]
  },
  {
   "cell_type": "code",
   "execution_count": 35,
   "metadata": {},
   "outputs": [
    {
     "data": {
      "image/png": "[encoded data removed]",
      "text/latex": [
       "$\\displaystyle \\frac{V_{1} \\left(R_{2} + R_{L} + i X_{2}\\right)}{M_{i}^{2} w_{e}^{2} + \\left(R_{1} + i X_{1}\\right) \\left(R_{2} + R_{L} + i X_{2}\\right)}$"
      ],
      "text/plain": [
       "          V₁⋅(R₂ + R_L + ⅈ⋅X₂)         \n",
       "───────────────────────────────────────\n",
       "  2   2                                \n",
       "Mᵢ ⋅wₑ  + (R₁ + ⅈ⋅X₁)⋅(R₂ + R_L + ⅈ⋅X₂)"
      ]
     },
     "metadata": {},
     "output_type": "display_data"
    }
   ],
   "source": [
    "# Reconstruct the factored result\n",
    "I_1 = (factor(I_1_n))/(factor(I_1_d + (I*(M_i**2)*(w_e**2))) \n",
    "                       - (I*(M_i**2)*(w_e**2)))\n",
    "display(simplify(I_1))"
   ]
  },
  {
   "cell_type": "markdown",
   "metadata": {},
   "source": [
    "- Input Impedance Expression $Z_{in}$:"
   ]
  },
  {
   "cell_type": "code",
   "execution_count": 38,
   "metadata": {},
   "outputs": [
    {
     "data": {
      "image/png": "[encoded data removed]",
      "text/latex": [
       "$\\displaystyle \\frac{M_{i}^{2} w_{e}^{2} + \\left(R_{1} + i X_{1}\\right) \\left(R_{2} + R_{L} + i X_{2}\\right)}{R_{2} + R_{L} + i X_{2}}$"
      ],
      "text/plain": [
       "  2   2                                \n",
       "Mᵢ ⋅wₑ  + (R₁ + ⅈ⋅X₁)⋅(R₂ + R_L + ⅈ⋅X₂)\n",
       "───────────────────────────────────────\n",
       "            R₂ + R_L + ⅈ⋅X₂            "
      ]
     },
     "metadata": {},
     "output_type": "display_data"
    }
   ],
   "source": [
    "Z_in = V_1*(1/simplify(I_1))\n",
    "display(Z_in)"
   ]
  },
  {
   "cell_type": "markdown",
   "metadata": {},
   "source": [
    "- Freq. Splitting occurs when $\\Im(Z_{in}) = 0$"
   ]
  },
  {
   "cell_type": "code",
   "execution_count": 44,
   "metadata": {},
   "outputs": [
    {
     "data": {
      "image/png": "[encoded data removed]",
      "text/latex": [
       "$\\displaystyle \\frac{X_{e} \\left(- M_{i}^{2} w_{e}^{2} - R_{1} R_{2} - R_{1} R_{L} + X_{e}^{2} + \\left(R_{2} + R_{L}\\right) \\left(R_{1} + R_{2} + R_{L}\\right)\\right)}{X_{e}^{2} + \\left(R_{2} + R_{L}\\right)^{2}}$"
      ],
      "text/plain": [
       "   ⎛    2   2                      2                             ⎞\n",
       "Xₑ⋅⎝- Mᵢ ⋅wₑ  - R₁⋅R₂ - R₁⋅R_L + Xₑ  + (R₂ + R_L)⋅(R₁ + R₂ + R_L)⎠\n",
       "──────────────────────────────────────────────────────────────────\n",
       "                          2             2                         \n",
       "                        Xₑ  + (R₂ + R_L)                          "
      ]
     },
     "execution_count": 44,
     "metadata": {},
     "output_type": "execute_result"
    }
   ],
   "source": [
    "# Assume both reactance are equal for simplicity\n",
    "# Common reactance X_e\n",
    "X_e = symbols('X_e', real = True)\n",
    "\n",
    "# Substitute the variable\n",
    "Z_in = Z_in.subs([(X_1, X_e), (X_2, X_e)])\n",
    "\n",
    "# Imaginary part of Zin\n",
    "simplify(im(Z_in))"
   ]
  },
  {
   "cell_type": "code",
   "execution_count": 45,
   "metadata": {},
   "outputs": [
    {
     "data": {
      "image/png": "[encoded data removed]",
      "text/latex": [
       "$\\displaystyle \\left(R_{2} + R_{L}\\right)^{2}$"
      ],
      "text/plain": [
       "          2\n",
       "(R₂ + R_L) "
      ]
     },
     "execution_count": 45,
     "metadata": {},
     "output_type": "execute_result"
    }
   ],
   "source": [
    "# Operate separately\n",
    "factor(-(R_1*R_2) - (R_1*R_L) + ((R_2 + R_L)*(R_1 + R_2 + R_L)))"
   ]
  },
  {
   "cell_type": "markdown",
   "metadata": {},
   "source": [
    "- Condition to only have one non-trivial root: $\\Delta < 0$"
   ]
  },
  {
   "cell_type": "code",
   "execution_count": 2,
   "metadata": {},
   "outputs": [],
   "source": [
    "# Angular Resonance frequency (central)\n",
    "w_c = 2*np.pi*(800e3)  # 800 kHz\n",
    "\n",
    "# Assume coils' self-inductance equal [H]\n",
    "L_c = 53.49e-6\n",
    "\n",
    "# Frequency-dependent parameter\n",
    "beta_c = (w_c*L_c)**2"
   ]
  },
  {
   "cell_type": "code",
   "execution_count": 3,
   "metadata": {},
   "outputs": [
    {
     "name": "stdout",
     "output_type": "stream",
     "text": [
      "(101,)\n",
      "1.0\n",
      "(1000,)\n",
      "1000.0\n",
      "(1000, 101)\n"
     ]
    }
   ],
   "source": [
    "# Formula for condition Delta\n",
    "Delta_c = lambda R, beta, k: (((R**2) - (2*beta))**2) - (4*(beta**2)*(1 - (k**2)))\n",
    "\n",
    "# Inductive Coupling Coefficient Range k_i\n",
    "k_i = np.arange(0, 1 + 0.01, 0.01)\n",
    "print(k_i.shape)\n",
    "print(k_i[-1])\n",
    "\n",
    "# Load Resistance [ohms]\n",
    "R_L = np.arange(1., 1000. + 1., 1.)\n",
    "print(R_L.shape)\n",
    "print(R_L[-1])\n",
    "\n",
    "# Create a mesh\n",
    "k_i_m, R_L_m = np.meshgrid(k_i, R_L)\n",
    "\n",
    "# Calculate the function Delta\n",
    "f_delta = Delta_c(R_L_m, beta_c, k_i_m)\n",
    "print(f_delta.shape)"
   ]
  },
  {
   "cell_type": "code",
   "execution_count": 4,
   "metadata": {},
   "outputs": [
    {
     "name": "stdout",
     "output_type": "stream",
     "text": [
      "[[0.   0.01 0.02 ... 0.98 0.99 1.  ]\n",
      " [0.   0.01 0.02 ... 0.98 0.99 1.  ]\n",
      " [0.   0.01 0.02 ... 0.98 0.99 1.  ]\n",
      " ...\n",
      " [0.   0.01 0.02 ... 0.98 0.99 1.  ]\n",
      " [0.   0.01 0.02 ... 0.98 0.99 1.  ]\n",
      " [0.   0.01 0.02 ... 0.98 0.99 1.  ]]\n",
      "(1000, 101)\n",
      "[[   1.    1.    1. ...    1.    1.    1.]\n",
      " [   2.    2.    2. ...    2.    2.    2.]\n",
      " [   3.    3.    3. ...    3.    3.    3.]\n",
      " ...\n",
      " [ 998.  998.  998. ...  998.  998.  998.]\n",
      " [ 999.  999.  999. ...  999.  999.  999.]\n",
      " [1000. 1000. 1000. ... 1000. 1000. 1000.]]\n",
      "(1000, 101)\n"
     ]
    }
   ],
   "source": [
    "print(k_i_m)\n",
    "print(k_i_m.shape)\n",
    "print(R_L_m)\n",
    "print(R_L_m.shape)"
   ]
  },
  {
   "cell_type": "code",
   "execution_count": 5,
   "metadata": {},
   "outputs": [
    {
     "name": "stdout",
     "output_type": "stream",
     "text": [
      "(array([  0,   1,   2, ..., 536, 536, 536]), array([ 0,  0,  0, ...,  8,  9, 10]))\n",
      "(36105,)\n",
      "(36105,)\n",
      "[  -289163.44884109  -1156641.79536819  -2602399.0395813  ...\n",
      " -95597061.68587494 -60060228.33427429 -20342591.05895996]\n",
      "(36105,)\n"
     ]
    }
   ],
   "source": [
    "# Only the negative part of the function is useful\n",
    "\n",
    "# Find the indixes of f_delta < 0\n",
    "ind_fd = np.where(f_delta < 0)\n",
    "print(ind_fd)\n",
    "print(ind_fd[0].shape)\n",
    "print(ind_fd[1].shape)\n",
    "\n",
    "# Keep the negative values only\n",
    "f_neg = f_delta[ind_fd[0], ind_fd[1]]\n",
    "print(f_neg)\n",
    "print(f_neg.shape)"
   ]
  },
  {
   "cell_type": "code",
   "execution_count": 6,
   "metadata": {},
   "outputs": [
    {
     "name": "stdout",
     "output_type": "stream",
     "text": [
      "[  1.   2.   3. ... 537. 537. 537.]\n",
      "[0.   0.   0.   ... 0.08 0.09 0.1 ]\n",
      "(36105, 36105)\n",
      "(36105, 36105)\n"
     ]
    }
   ],
   "source": [
    "# A new grid is necessary\n",
    "RL_n = R_L[ind_fd[0]]\n",
    "print(RL_n)\n",
    "\n",
    "ki_n = k_i[ind_fd[1]]\n",
    "print(ki_n)\n",
    "\n",
    "# Create new mesh\n",
    "kin_m, RLn_m = np.meshgrid(ki_n, RL_n)\n",
    "\n",
    "print(kin_m.shape)\n",
    "print(RLn_m.shape)\n",
    "\n",
    "# Check right selection\n",
    "#print()"
   ]
  },
  {
   "cell_type": "code",
   "execution_count": 92,
   "metadata": {},
   "outputs": [
    {
     "data": {
      "image/png": "[encoded data removed]",
      "text/plain": [
       "<Figure size 1080x720 with 4 Axes>"
      ]
     },
     "metadata": {
      "needs_background": "light"
     },
     "output_type": "display_data"
    }
   ],
   "source": [
    "#interactive plotting in separate window\n",
    "#%matplotlib qt \n",
    "\n",
    "#normal charts inside notebooks\n",
    "%matplotlib inline \n",
    "\n",
    "# Set the plot --> size(width, height)\n",
    "fig = plt.figure(figsize=(15,10))\n",
    "\n",
    "################\n",
    "# 1st Subplot\n",
    "################\n",
    "\n",
    "# Set the subplot for the two graphs\n",
    "axs = fig.add_subplot(1, 2, 1, projection = '3d')\n",
    "\n",
    "# Complete figure information\n",
    "fig.suptitle('Frequency Splitting: $\\Delta$ Function', fontsize = 20)\n",
    "\n",
    "# For a simple 3D plot\n",
    "#ax = fig.gca(projection = '3d')\n",
    "\n",
    "# Axis labels\n",
    "axs.set_xlabel('Inductive Coupling Coefficient ($k_{i}$)')\n",
    "axs.set_ylabel('Load Resistance ($R_{L}$) [$\\Omega$]')\n",
    "axs.set_zlabel('Function $\\Delta$')\n",
    "\n",
    "# Title\n",
    "axs.set_title('3D Plot of $\\Delta$ Function', fontsize = 15)\n",
    "\n",
    "# Plot the surface\n",
    "surf = axs.plot_surface(k_i_m, R_L_m, f_delta, cmap = cm.coolwarm,\n",
    "                      linewidth = 0, antialiased = False)\n",
    "\n",
    "# Figure size (single plot)\n",
    "#plt.rcParams[\"figure.figsize\"] = (30,30)\n",
    "\n",
    "# Add a color bar which maps values to colors.\n",
    "plt.colorbar(surf, orientation = 'horizontal', shrink=0.6,\n",
    "             aspect=20, pad = 0.05)\n",
    "\n",
    "################\n",
    "# 2nd Subplot\n",
    "################\n",
    "\n",
    "# Set the subplot for the two graphs\n",
    "axs = fig.add_subplot(1, 2, 2)\n",
    "\n",
    "# Plot the contour plot\n",
    "cp = plt.contourf(k_i_m, R_L_m, f_delta, cmap = cm.Spectral)\n",
    "\n",
    "# Define the levels to label\n",
    "c_labels = [0.e0]\n",
    "axs.clabel(cp, c_labels, inline = 1, colors = 'k', fmt = '%1.3f', fontsize = 10)\n",
    "\n",
    "# Color bar\n",
    "plt.colorbar(cp, orientation = 'horizontal', shrink=0.6,\n",
    "             aspect=20, pad = 0.1)\n",
    "\n",
    "# Information\n",
    "axs.set_title('Contour Plot of $\\Delta$ Function', fontsize = 15)\n",
    "\n",
    "# Axis labels\n",
    "axs.set_xlabel('Inductive Coupling Coefficient ($k_{i}$)')\n",
    "axs.set_ylabel('Load Resistance ($R_{L}$) [$\\Omega$]')\n",
    "\n",
    "# Distance between subplots\n",
    "fig.subplots_adjust(wspace=0.3)\n",
    "plt.show()"
   ]
  },
  {
   "cell_type": "markdown",
   "metadata": {},
   "source": [
    "# 2. Freq. Splitting Model for Active Compensation Network\n",
    "\n",
    "- Analysis using T-Model."
   ]
  },
  {
   "cell_type": "code",
   "execution_count": null,
   "metadata": {},
   "outputs": [],
   "source": []
  },
  {
   "cell_type": "markdown",
   "metadata": {},
   "source": [
    "# 3. $\\pi$-Model and $T$-Model equivalent equations\n",
    "\n",
    "- Equivalent capacitive model for 4 plates"
   ]
  },
  {
   "cell_type": "markdown",
   "metadata": {},
   "source": [
    "## $\\pi$-Model:"
   ]
  },
  {
   "cell_type": "code",
   "execution_count": 47,
   "metadata": {},
   "outputs": [],
   "source": [
    "# Define the symbolic variables\n",
    "\n",
    "# Capacitance\n",
    "c_1, c_2, c_M = symbols('c_1 c_2 c_M', real = True)\n",
    "\n",
    "# Angular frequency\n",
    "w = symbols('w', real = True)"
   ]
  },
  {
   "cell_type": "code",
   "execution_count": 48,
   "metadata": {},
   "outputs": [],
   "source": [
    "# Common denominator\n",
    "com_D = (1/(w*I))*(1/c_1 + 1/c_2 + 1/c_M)"
   ]
  },
  {
   "cell_type": "code",
   "execution_count": 49,
   "metadata": {},
   "outputs": [
    {
     "data": {
      "image/png": "[encoded data removed]",
      "text/latex": [
       "$\\displaystyle - \\frac{i c_{2}}{w \\left(c_{1} c_{2} + c_{1} c_{M} + c_{2} c_{M}\\right)}$"
      ],
      "text/plain": [
       "           -ⅈ⋅c₂           \n",
       "───────────────────────────\n",
       "w⋅(c₁⋅c₂ + c₁⋅c_M + c₂⋅c_M)"
      ]
     },
     "execution_count": 49,
     "metadata": {},
     "output_type": "execute_result"
    }
   ],
   "source": [
    "# T-model equivalent c'_1\n",
    "Zp_1 = ((1/(w*I))**2)*((1/c_1)*(1/c_M))/com_D\n",
    "simplify(Zp_1)"
   ]
  },
  {
   "cell_type": "code",
   "execution_count": 21,
   "metadata": {},
   "outputs": [
    {
     "data": {
      "image/png": "[encoded data removed]",
      "text/latex": [
       "$\\displaystyle - \\frac{i c_{1}}{w \\left(c_{1} c_{2} + c_{1} c_{M} + c_{2} c_{M}\\right)}$"
      ],
      "text/plain": [
       "           -ⅈ⋅c₁           \n",
       "───────────────────────────\n",
       "w⋅(c₁⋅c₂ + c₁⋅c_M + c₂⋅c_M)"
      ]
     },
     "execution_count": 21,
     "metadata": {},
     "output_type": "execute_result"
    }
   ],
   "source": [
    "# T-model equivalent c'_2\n",
    "Zp_2 = ((1/(w*I))**2)*((1/c_2)*(1/c_M))/com_D\n",
    "simplify(Zp_2)"
   ]
  },
  {
   "cell_type": "code",
   "execution_count": 22,
   "metadata": {},
   "outputs": [
    {
     "data": {
      "image/png": "[encoded data removed]",
      "text/latex": [
       "$\\displaystyle - \\frac{i c_{M}}{w \\left(c_{1} c_{2} + c_{1} c_{M} + c_{2} c_{M}\\right)}$"
      ],
      "text/plain": [
       "          -ⅈ⋅c_M           \n",
       "───────────────────────────\n",
       "w⋅(c₁⋅c₂ + c₁⋅c_M + c₂⋅c_M)"
      ]
     },
     "execution_count": 22,
     "metadata": {},
     "output_type": "execute_result"
    }
   ],
   "source": [
    "# T-model equivalent c'_M\n",
    "Zp_M = ((1/(w*I))**2)*((1/c_1)*(1/c_2))/com_D\n",
    "simplify(Zp_M)"
   ]
  },
  {
   "cell_type": "markdown",
   "metadata": {},
   "source": [
    "## $T$-Model:"
   ]
  },
  {
   "cell_type": "code",
   "execution_count": 23,
   "metadata": {},
   "outputs": [],
   "source": [
    "# Define the symbolic variables\n",
    "\n",
    "# Capacitance\n",
    "cp_1, cp_2, cp_M = symbols('cp_1 cp_2 cp_M', real = True)"
   ]
  },
  {
   "cell_type": "code",
   "execution_count": 24,
   "metadata": {},
   "outputs": [],
   "source": [
    "# Common numerator\n",
    "com_N = ((1/(w*I))**2)*((1/(cp_1*cp_M)) + (1/(cp_1*cp_2)) + (1/(cp_M*cp_2)))"
   ]
  },
  {
   "cell_type": "code",
   "execution_count": 25,
   "metadata": {},
   "outputs": [
    {
     "data": {
      "image/png": "[encoded data removed]",
      "text/latex": [
       "$\\displaystyle - \\frac{i \\left(cp_{1} + cp_{2} + cp_{M}\\right)}{cp_{1} cp_{M} w}$"
      ],
      "text/plain": [
       "-ⅈ⋅(cp₁ + cp₂ + cp_M) \n",
       "──────────────────────\n",
       "      cp₁⋅cp_M⋅w      "
      ]
     },
     "execution_count": 25,
     "metadata": {},
     "output_type": "execute_result"
    }
   ],
   "source": [
    "# Pi-model equivalent c_1\n",
    "Z_1 = (com_N)/(1/(w*cp_2*I))\n",
    "simplify(Z_1)"
   ]
  },
  {
   "cell_type": "code",
   "execution_count": 26,
   "metadata": {},
   "outputs": [
    {
     "data": {
      "image/png": "[encoded data removed]",
      "text/latex": [
       "$\\displaystyle - \\frac{i \\left(cp_{1} + cp_{2} + cp_{M}\\right)}{cp_{2} cp_{M} w}$"
      ],
      "text/plain": [
       "-ⅈ⋅(cp₁ + cp₂ + cp_M) \n",
       "──────────────────────\n",
       "      cp₂⋅cp_M⋅w      "
      ]
     },
     "execution_count": 26,
     "metadata": {},
     "output_type": "execute_result"
    }
   ],
   "source": [
    "# Pi-model equivalent c_2\n",
    "Z_2 = (com_N)/(1/(w*cp_1*I))\n",
    "simplify(Z_2)"
   ]
  },
  {
   "cell_type": "code",
   "execution_count": 27,
   "metadata": {},
   "outputs": [
    {
     "data": {
      "image/png": "[encoded data removed]",
      "text/latex": [
       "$\\displaystyle - \\frac{i \\left(cp_{1} + cp_{2} + cp_{M}\\right)}{cp_{1} cp_{2} w}$"
      ],
      "text/plain": [
       "-ⅈ⋅(cp₁ + cp₂ + cp_M) \n",
       "──────────────────────\n",
       "      cp₁⋅cp₂⋅w       "
      ]
     },
     "execution_count": 27,
     "metadata": {},
     "output_type": "execute_result"
    }
   ],
   "source": [
    "# Pi-model equivalent c_M\n",
    "Z_M = (com_N)/(1/(w*cp_M*I))\n",
    "simplify(Z_M)"
   ]
  }
 ],
 "metadata": {
  "kernelspec": {
   "display_name": "Python 3",
   "language": "python",
   "name": "python3"
  },
  "language_info": {
   "codemirror_mode": {
    "name": "ipython",
    "version": 3
   },
   "file_extension": ".py",
   "mimetype": "text/x-python",
   "name": "python",
   "nbconvert_exporter": "python",
   "pygments_lexer": "ipython3",
   "version": "3.8.8"
  }
 },
 "nbformat": 4,
 "nbformat_minor": 4
}
